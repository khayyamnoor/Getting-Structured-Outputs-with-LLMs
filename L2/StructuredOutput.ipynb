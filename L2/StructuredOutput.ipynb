{
 "cells": [
  {
   "cell_type": "code",
   "execution_count": 1,
   "metadata": {},
   "outputs": [],
   "source": [
    "# Warning control\n",
    "import warnings\n",
    "warnings.filterwarnings('ignore')"
   ]
  },
  {
   "cell_type": "code",
   "execution_count": null,
   "metadata": {},
   "outputs": [],
   "source": [
    "import os\n",
    "from helper import get_openai_api_key\n",
    "KEY = get_openai_api_key()"
   ]
  },
  {
   "cell_type": "code",
   "execution_count": null,
   "metadata": {},
   "outputs": [],
   "source": [
    "from openai import OpenAI\n",
    "\n",
    "# Instantiate the client\n",
    "client = OpenAI(\n",
    "    api_key=KEY\n",
    ")"
   ]
  },
  {
   "cell_type": "code",
   "execution_count": null,
   "metadata": {},
   "outputs": [],
   "source": [
    "from pydantic import BaseModel\n",
    "from enum import Enum\n",
    "from typing import List, Optional, Literal\n",
    "from openai import OpenAI\n",
    "class UserPost(BaseModel):\n",
    "    message: str\n",
    "\n",
    "def make_post(output_class):\n",
    "    completion = client.beta.chat.completions.parse(\n",
    "        model=\"gpt-4o-mini\",\n",
    "        messages=[\n",
    "            {\"role\": \"system\", \"content\": \"\"\"\n",
    "                You are a customer of Tech Corp (@techcorp), a company\n",
    "                that provides an app and a website. Create a small \n",
    "                microblog-style post to them that sends some kind of \n",
    "                feedback, positive or negative.\n",
    "            \"\"\"},\n",
    "            {\"role\": \"user\", \"content\": \"Please write a post.\"},\n",
    "        ],\n",
    "        response_format=output_class,\n",
    "    )\n",
    "    return completion.choices[0].message.parsed\n",
    "\n",
    "new_post = make_post(UserPost)\n",
    "new_post"
   ]
  },
  {
   "cell_type": "code",
   "execution_count": null,
   "metadata": {},
   "outputs": [],
   "source": [
    "class Mention(BaseModel):\n",
    "    # The model chooses the product the mention is about,\n",
    "    # as well as the social media post's sentiment\n",
    "    product: Literal['app', 'website', 'not_applicable']\n",
    "    sentiment: Literal['positive', 'negative', 'neutral']\n",
    "\n",
    "    # Model can choose to respond to the user\n",
    "    needs_response: bool\n",
    "    response: Optional[str]\n",
    "\n",
    "    # If a support ticket needs to be opened, \n",
    "    # the model can write a description for the\n",
    "    # developers\n",
    "    support_ticket_description: Optional[str]"
   ]
  },
  {
   "cell_type": "code",
   "execution_count": null,
   "metadata": {},
   "outputs": [],
   "source": [
    "def analyze_mention(\n",
    "    mention: str, \n",
    "    personality: str = \"friendly\"\n",
    ") -> Mention:\n",
    "    completion = client.beta.chat.completions.parse(\n",
    "        model=\"gpt-4o-mini\",\n",
    "        messages=[\n",
    "            {\"role\": \"system\", \"content\": f\"\"\"\n",
    "                Extract structured information from \n",
    "                social media mentions about our products.\n",
    "\n",
    "                Provide\n",
    "                - The product mentioned (website, app, not applicable)\n",
    "                - The mention sentiment (positive, negative, neutral)\n",
    "                - Whether to respond (true/false). Don't respond to \n",
    "                  inflammatory messages or bait.\n",
    "                - A customized response to send to the user if we need \n",
    "                  to respond.\n",
    "                - An optional support ticket description to create.\n",
    "\n",
    "                Your personality is {personality}.\n",
    "            \"\"\"},\n",
    "            {\"role\": \"user\", \"content\": mention},\n",
    "        ],\n",
    "        response_format=Mention,\n",
    "    )\n",
    "    return completion.choices[0].message.parsed"
   ]
  },
  {
   "cell_type": "code",
   "execution_count": null,
   "metadata": {},
   "outputs": [],
   "source": [
    "post= analyze_mention(new_post.message)\n",
    "post"
   ]
  },
  {
   "cell_type": "code",
   "execution_count": null,
   "metadata": {},
   "outputs": [],
   "source": [
    "mention_json_string = post.model_dump_json(indent=2)\n",
    "print(mention_json_string)"
   ]
  }
 ],
 "metadata": {
  "kernelspec": {
   "display_name": "Python 3",
   "language": "python",
   "name": "python3"
  },
  "language_info": {
   "codemirror_mode": {
    "name": "ipython",
    "version": 3
   },
   "file_extension": ".py",
   "mimetype": "text/x-python",
   "name": "python",
   "nbconvert_exporter": "python",
   "pygments_lexer": "ipython3",
   "version": "3.13.2"
  }
 },
 "nbformat": 4,
 "nbformat_minor": 2
}
